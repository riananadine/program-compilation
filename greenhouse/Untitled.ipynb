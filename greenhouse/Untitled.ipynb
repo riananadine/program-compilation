{
 "cells": [
  {
   "cell_type": "code",
   "execution_count": 1,
   "id": "ca17525f",
   "metadata": {},
   "outputs": [],
   "source": [
    "import pandas as pd"
   ]
  },
  {
   "cell_type": "code",
   "execution_count": 2,
   "id": "74f23e9f",
   "metadata": {},
   "outputs": [],
   "source": [
    "gas_data = pd.read_csv('greenhouse_gas_inventory_carbon_dioxide.csv')"
   ]
  },
  {
   "cell_type": "code",
   "execution_count": 3,
   "id": "50948563",
   "metadata": {},
   "outputs": [
    {
     "data": {
      "text/html": [
       "<div>\n",
       "<style scoped>\n",
       "    .dataframe tbody tr th:only-of-type {\n",
       "        vertical-align: middle;\n",
       "    }\n",
       "\n",
       "    .dataframe tbody tr th {\n",
       "        vertical-align: top;\n",
       "    }\n",
       "\n",
       "    .dataframe thead th {\n",
       "        text-align: right;\n",
       "    }\n",
       "</style>\n",
       "<table border=\"1\" class=\"dataframe\">\n",
       "  <thead>\n",
       "    <tr style=\"text-align: right;\">\n",
       "      <th></th>\n",
       "      <th>country_or_area</th>\n",
       "      <th>year</th>\n",
       "      <th>value</th>\n",
       "      <th>category</th>\n",
       "    </tr>\n",
       "  </thead>\n",
       "  <tbody>\n",
       "    <tr>\n",
       "      <th>0</th>\n",
       "      <td>Australia</td>\n",
       "      <td>2014</td>\n",
       "      <td>393126.9470</td>\n",
       "      <td>carbon_dioxide_co2_emissions_without_land_use_...</td>\n",
       "    </tr>\n",
       "    <tr>\n",
       "      <th>1</th>\n",
       "      <td>Australia</td>\n",
       "      <td>2013</td>\n",
       "      <td>396913.9365</td>\n",
       "      <td>carbon_dioxide_co2_emissions_without_land_use_...</td>\n",
       "    </tr>\n",
       "    <tr>\n",
       "      <th>2</th>\n",
       "      <td>Australia</td>\n",
       "      <td>2012</td>\n",
       "      <td>406462.8477</td>\n",
       "      <td>carbon_dioxide_co2_emissions_without_land_use_...</td>\n",
       "    </tr>\n",
       "    <tr>\n",
       "      <th>3</th>\n",
       "      <td>Australia</td>\n",
       "      <td>2011</td>\n",
       "      <td>403705.5283</td>\n",
       "      <td>carbon_dioxide_co2_emissions_without_land_use_...</td>\n",
       "    </tr>\n",
       "    <tr>\n",
       "      <th>4</th>\n",
       "      <td>Australia</td>\n",
       "      <td>2010</td>\n",
       "      <td>406200.9932</td>\n",
       "      <td>carbon_dioxide_co2_emissions_without_land_use_...</td>\n",
       "    </tr>\n",
       "  </tbody>\n",
       "</table>\n",
       "</div>"
      ],
      "text/plain": [
       "  country_or_area  year        value  \\\n",
       "0       Australia  2014  393126.9470   \n",
       "1       Australia  2013  396913.9365   \n",
       "2       Australia  2012  406462.8477   \n",
       "3       Australia  2011  403705.5283   \n",
       "4       Australia  2010  406200.9932   \n",
       "\n",
       "                                            category  \n",
       "0  carbon_dioxide_co2_emissions_without_land_use_...  \n",
       "1  carbon_dioxide_co2_emissions_without_land_use_...  \n",
       "2  carbon_dioxide_co2_emissions_without_land_use_...  \n",
       "3  carbon_dioxide_co2_emissions_without_land_use_...  \n",
       "4  carbon_dioxide_co2_emissions_without_land_use_...  "
      ]
     },
     "execution_count": 3,
     "metadata": {},
     "output_type": "execute_result"
    }
   ],
   "source": [
    "gas_data.head()"
   ]
  },
  {
   "cell_type": "code",
   "execution_count": 4,
   "id": "997f35f9",
   "metadata": {},
   "outputs": [
    {
     "name": "stdout",
     "output_type": "stream",
     "text": [
      "Empty DataFrame\n",
      "Columns: [country_or_area, year, value, category]\n",
      "Index: []\n"
     ]
    }
   ],
   "source": [
    "country_name = 'Germany'\n",
    "filtered_data = gas_data[gas_data['country_or_area'] == country_name]\n",
    "\n",
    "print(filtered_data)"
   ]
  },
  {
   "cell_type": "code",
   "execution_count": 5,
   "id": "147e11a1",
   "metadata": {},
   "outputs": [
    {
     "name": "stdout",
     "output_type": "stream",
     "text": [
      "   country_or_area  year        value  \\\n",
      "25         Austria  2014  64262.56399   \n",
      "26         Austria  2013  67957.12111   \n",
      "27         Austria  2012  67698.65863   \n",
      "28         Austria  2011  70327.16704   \n",
      "29         Austria  2010  72531.82613   \n",
      "30         Austria  2009  67682.72515   \n",
      "31         Austria  2008  74066.25579   \n",
      "32         Austria  2007  74268.11072   \n",
      "33         Austria  2006  76934.95153   \n",
      "34         Austria  2005  79588.50188   \n",
      "35         Austria  2004  78388.99743   \n",
      "36         Austria  2003  78023.95390   \n",
      "37         Austria  2002  72126.59144   \n",
      "38         Austria  2001  70299.47115   \n",
      "39         Austria  2000  66274.74325   \n",
      "40         Austria  1999  65660.13364   \n",
      "41         Austria  1998  67047.25067   \n",
      "42         Austria  1997  67455.89273   \n",
      "43         Austria  1996  67667.26270   \n",
      "44         Austria  1995  64202.15922   \n",
      "45         Austria  1994  61189.10250   \n",
      "46         Austria  1993  60790.75772   \n",
      "47         Austria  1992  60432.24934   \n",
      "48         Austria  1991  65903.51331   \n",
      "49         Austria  1990  62297.16557   \n",
      "\n",
      "                                             category  \n",
      "25  carbon_dioxide_co2_emissions_without_land_use_...  \n",
      "26  carbon_dioxide_co2_emissions_without_land_use_...  \n",
      "27  carbon_dioxide_co2_emissions_without_land_use_...  \n",
      "28  carbon_dioxide_co2_emissions_without_land_use_...  \n",
      "29  carbon_dioxide_co2_emissions_without_land_use_...  \n",
      "30  carbon_dioxide_co2_emissions_without_land_use_...  \n",
      "31  carbon_dioxide_co2_emissions_without_land_use_...  \n",
      "32  carbon_dioxide_co2_emissions_without_land_use_...  \n",
      "33  carbon_dioxide_co2_emissions_without_land_use_...  \n",
      "34  carbon_dioxide_co2_emissions_without_land_use_...  \n",
      "35  carbon_dioxide_co2_emissions_without_land_use_...  \n",
      "36  carbon_dioxide_co2_emissions_without_land_use_...  \n",
      "37  carbon_dioxide_co2_emissions_without_land_use_...  \n",
      "38  carbon_dioxide_co2_emissions_without_land_use_...  \n",
      "39  carbon_dioxide_co2_emissions_without_land_use_...  \n",
      "40  carbon_dioxide_co2_emissions_without_land_use_...  \n",
      "41  carbon_dioxide_co2_emissions_without_land_use_...  \n",
      "42  carbon_dioxide_co2_emissions_without_land_use_...  \n",
      "43  carbon_dioxide_co2_emissions_without_land_use_...  \n",
      "44  carbon_dioxide_co2_emissions_without_land_use_...  \n",
      "45  carbon_dioxide_co2_emissions_without_land_use_...  \n",
      "46  carbon_dioxide_co2_emissions_without_land_use_...  \n",
      "47  carbon_dioxide_co2_emissions_without_land_use_...  \n",
      "48  carbon_dioxide_co2_emissions_without_land_use_...  \n",
      "49  carbon_dioxide_co2_emissions_without_land_use_...  \n"
     ]
    }
   ],
   "source": [
    "country_name = 'Austria'\n",
    "filtered_data = gas_data[gas_data['country_or_area'] == country_name]\n",
    "\n",
    "print(filtered_data)"
   ]
  },
  {
   "cell_type": "code",
   "execution_count": 6,
   "id": "355c3622",
   "metadata": {},
   "outputs": [
    {
     "name": "stdout",
     "output_type": "stream",
     "text": [
      "   country_or_area  year        value  \\\n",
      "0        Australia  2014  393126.9470   \n",
      "1        Australia  2013  396913.9365   \n",
      "2        Australia  2012  406462.8477   \n",
      "3        Australia  2011  403705.5283   \n",
      "4        Australia  2010  406200.9932   \n",
      "5        Australia  2009  408448.4790   \n",
      "6        Australia  2008  404237.8282   \n",
      "7        Australia  2007  398816.4535   \n",
      "8        Australia  2006  391134.1009   \n",
      "9        Australia  2005  385581.1328   \n",
      "10       Australia  2004  381519.2616   \n",
      "11       Australia  2003  368345.9774   \n",
      "12       Australia  2002  361861.3879   \n",
      "13       Australia  2001  357653.3299   \n",
      "14       Australia  2000  349885.4331   \n",
      "15       Australia  1999  343713.9069   \n",
      "16       Australia  1998  334328.1426   \n",
      "17       Australia  1997  320439.1168   \n",
      "18       Australia  1996  311914.8198   \n",
      "19       Australia  1995  305162.5435   \n",
      "20       Australia  1994  293830.7091   \n",
      "21       Australia  1993  289142.2677   \n",
      "22       Australia  1992  284766.0927   \n",
      "23       Australia  1991  279741.6390   \n",
      "24       Australia  1990  278265.8989   \n",
      "\n",
      "                                             category  \n",
      "0   carbon_dioxide_co2_emissions_without_land_use_...  \n",
      "1   carbon_dioxide_co2_emissions_without_land_use_...  \n",
      "2   carbon_dioxide_co2_emissions_without_land_use_...  \n",
      "3   carbon_dioxide_co2_emissions_without_land_use_...  \n",
      "4   carbon_dioxide_co2_emissions_without_land_use_...  \n",
      "5   carbon_dioxide_co2_emissions_without_land_use_...  \n",
      "6   carbon_dioxide_co2_emissions_without_land_use_...  \n",
      "7   carbon_dioxide_co2_emissions_without_land_use_...  \n",
      "8   carbon_dioxide_co2_emissions_without_land_use_...  \n",
      "9   carbon_dioxide_co2_emissions_without_land_use_...  \n",
      "10  carbon_dioxide_co2_emissions_without_land_use_...  \n",
      "11  carbon_dioxide_co2_emissions_without_land_use_...  \n",
      "12  carbon_dioxide_co2_emissions_without_land_use_...  \n",
      "13  carbon_dioxide_co2_emissions_without_land_use_...  \n",
      "14  carbon_dioxide_co2_emissions_without_land_use_...  \n",
      "15  carbon_dioxide_co2_emissions_without_land_use_...  \n",
      "16  carbon_dioxide_co2_emissions_without_land_use_...  \n",
      "17  carbon_dioxide_co2_emissions_without_land_use_...  \n",
      "18  carbon_dioxide_co2_emissions_without_land_use_...  \n",
      "19  carbon_dioxide_co2_emissions_without_land_use_...  \n",
      "20  carbon_dioxide_co2_emissions_without_land_use_...  \n",
      "21  carbon_dioxide_co2_emissions_without_land_use_...  \n",
      "22  carbon_dioxide_co2_emissions_without_land_use_...  \n",
      "23  carbon_dioxide_co2_emissions_without_land_use_...  \n",
      "24  carbon_dioxide_co2_emissions_without_land_use_...  \n"
     ]
    }
   ],
   "source": [
    "country_name = 'Australia'\n",
    "filtered_data = gas_data[gas_data['country_or_area'] == country_name]\n",
    "\n",
    "print(filtered_data)"
   ]
  },
  {
   "cell_type": "code",
   "execution_count": 9,
   "id": "012e09ef",
   "metadata": {},
   "outputs": [
    {
     "name": "stdout",
     "output_type": "stream",
     "text": [
      "Australia\n",
      "    year        value\n",
      "0   2014  393126.9470\n",
      "1   2013  396913.9365\n",
      "2   2012  406462.8477\n",
      "3   2011  403705.5283\n",
      "4   2010  406200.9932\n",
      "5   2009  408448.4790\n",
      "6   2008  404237.8282\n",
      "7   2007  398816.4535\n",
      "8   2006  391134.1009\n",
      "9   2005  385581.1328\n",
      "10  2004  381519.2616\n",
      "11  2003  368345.9774\n",
      "12  2002  361861.3879\n",
      "13  2001  357653.3299\n",
      "14  2000  349885.4331\n",
      "15  1999  343713.9069\n",
      "16  1998  334328.1426\n",
      "17  1997  320439.1168\n",
      "18  1996  311914.8198\n",
      "19  1995  305162.5435\n",
      "20  1994  293830.7091\n",
      "21  1993  289142.2677\n",
      "22  1992  284766.0927\n",
      "23  1991  279741.6390\n",
      "24  1990  278265.8989\n"
     ]
    }
   ],
   "source": [
    "selected_data = filtered_data[['year','value']]\n",
    "\n",
    "print(country_name)\n",
    "print(selected_data)"
   ]
  },
  {
   "cell_type": "code",
   "execution_count": null,
   "id": "f86375ff",
   "metadata": {},
   "outputs": [],
   "source": []
  }
 ],
 "metadata": {
  "kernelspec": {
   "display_name": "Python 3 (ipykernel)",
   "language": "python",
   "name": "python3"
  },
  "language_info": {
   "codemirror_mode": {
    "name": "ipython",
    "version": 3
   },
   "file_extension": ".py",
   "mimetype": "text/x-python",
   "name": "python",
   "nbconvert_exporter": "python",
   "pygments_lexer": "ipython3",
   "version": "3.11.5"
  }
 },
 "nbformat": 4,
 "nbformat_minor": 5
}
