{
 "cells": [
  {
   "cell_type": "code",
   "execution_count": 16,
   "id": "edcb5e86-31df-46d9-8799-e44ffa2b3af4",
   "metadata": {
    "tags": []
   },
   "outputs": [
    {
     "name": "stdin",
     "output_type": "stream",
     "text": [
      "Input Sex (male/female):  male\n",
      "Input Smoker Status (yes/no):  yes\n"
     ]
    },
    {
     "name": "stdout",
     "output_type": "stream",
     "text": [
      "      age   sex     bmi  children smoker     region   charges\n",
      "1064   27  male  42.130         0    yes  southeast  39611.76\n",
      "1065   30  male  35.300         0    yes  southwest  36837.47\n",
      "1066   31  male  36.300         2    yes  southwest  38711.00\n",
      "1067   22  male  35.600         0    yes  southwest  35585.58\n",
      "1068   28  male  36.400         1    yes  southwest  51194.56\n",
      "...   ...   ...     ...       ...    ...        ...       ...\n",
      "1218   62  male  30.875         3    yes  northwest  46718.16\n",
      "1219   43  male  27.800         0    yes  southwest  37829.72\n",
      "1220   42  male  24.605         2    yes  northeast  21259.38\n",
      "1221   32  male  28.120         4    yes  northwest  21472.48\n",
      "1222   62  male  26.695         0    yes  northeast  28101.33\n",
      "\n",
      "[159 rows x 7 columns]\n"
     ]
    },
    {
     "name": "stdin",
     "output_type": "stream",
     "text": [
      "Choose among the filter options (A - age, B - BMI, C - children):  A\n"
     ]
    },
    {
     "name": "stdout",
     "output_type": "stream",
     "text": [
      "\n",
      "The charges for male - yes according to Age are the ff:\n",
      "      age   charges\n",
      "1064   27  39611.76\n",
      "1065   30  36837.47\n",
      "1066   31  38711.00\n",
      "1067   22  35585.58\n",
      "1068   28  51194.56\n",
      "...   ...       ...\n",
      "1218   62  46718.16\n",
      "1219   43  37829.72\n",
      "1220   42  21259.38\n",
      "1221   32  21472.48\n",
      "1222   62  28101.33\n",
      "\n",
      "[159 rows x 2 columns]\n"
     ]
    }
   ],
   "source": [
    "import pandas as pd\n",
    "\n",
    "medical_data = pd.read_csv('medical insurance dataset.csv')\n",
    "medical_data.head()\n",
    "\n",
    "#First Input\n",
    "sex = input(\"Input Sex (male/female): \")\n",
    "smokerstatus = input(\"Input Smoker Status (yes/no): \")\n",
    "\n",
    "#Sex Filter\n",
    "sex_name = sex\n",
    "sexfiltered_data = medical_data[medical_data['sex'] == sex_name]\n",
    "\n",
    "#Smoker Status Filter\n",
    "smoker_name = smokerstatus\n",
    "selected_data = sexfiltered_data[sexfiltered_data['smoker'] == smoker_name]\n",
    "\n",
    "print(selected_data)\n",
    "\n",
    "choice = input(\"Choose among the filter options (A - age, B - BMI, C - children): \")\n",
    "\n",
    "if choice == \"A\":\n",
    "    age_choice = selected_data[['age','charges']]\n",
    "    print(f\"\\nThe charges for {sex} - {smokerstatus} according to Age are the ff:\")\n",
    "    print(age_choice)\n",
    "elif choice == \"B\":\n",
    "    bmi_choice = selected_data[['bmi','charges']]\n",
    "    print(f\"\\nThe charges for {sex} - {smokerstatus} according to the BMI are the ff:\")\n",
    "    print(bmi_choice)\n",
    "elif choice == \"C\":\n",
    "    children_choice = selected_data[['children','charges']]\n",
    "    print(f\"\\nThe charges for {sex} - {smokerstatus} according to the number of children are the ff:\")\n",
    "    print(children_choice)\n",
    "else:\n",
    "    print(\"\\nInput is invalid!\")\n",
    "    "
   ]
  },
  {
   "cell_type": "code",
   "execution_count": null,
   "id": "e2f30016-b86f-4a5e-9290-45c6ae50a785",
   "metadata": {},
   "outputs": [],
   "source": []
  }
 ],
 "metadata": {
  "kernelspec": {
   "display_name": "Python 3 (ipykernel)",
   "language": "python",
   "name": "python3"
  },
  "language_info": {
   "codemirror_mode": {
    "name": "ipython",
    "version": 3
   },
   "file_extension": ".py",
   "mimetype": "text/x-python",
   "name": "python",
   "nbconvert_exporter": "python",
   "pygments_lexer": "ipython3",
   "version": "3.11.5"
  }
 },
 "nbformat": 4,
 "nbformat_minor": 5
}
